{
  "nbformat": 4,
  "nbformat_minor": 0,
  "metadata": {
    "colab": {
      "private_outputs": true,
      "provenance": []
    },
    "kernelspec": {
      "name": "python3",
      "display_name": "Python 3"
    },
    "language_info": {
      "name": "python"
    }
  },
  "cells": [
    {
      "cell_type": "markdown",
      "source": [
        "# **Python Programming Assignment 02**\n"
      ],
      "metadata": {
        "id": "nBUXgcB1eTF8"
      }
    },
    {
      "cell_type": "markdown",
      "source": [
        "## **Question 1: Variables and Data Types**\n",
        "### **Problem**: Write a Python program that:\n",
        "1. Accepts a string, an integer, a float, and a boolean from the user.\n",
        "2. Initializes variables for each type, and prints them out.\n",
        "3. Convert the string to uppercase and print it.\n",
        "4. Check if the integer is even or odd and print the result.\n",
        "5. Multiply the float by 2 and print the result."
      ],
      "metadata": {
        "id": "zj5AEadAeZqN"
      }
    },
    {
      "cell_type": "code",
      "execution_count": null,
      "metadata": {
        "collapsed": true,
        "id": "rFhKAFw_dpJe"
      },
      "outputs": [],
      "source": [
        "# Accepting user's inputs for different Data types\n",
        "string = input(\"Enter a string: \") # Taking string input from user\n",
        "integer = None\n",
        "floating_point = None\n",
        "boolean = None\n",
        "\n",
        "# Validate integer input\n",
        "while True:\n",
        "    try:\n",
        "        integer = int(input(\"Enter an integer: \")) # Taking Integer input from user\n",
        "        break\n",
        "    except ValueError:\n",
        "        print(\"Invalid input! Please enter a valid integer\")\n",
        "\n",
        "# Validating the float data input\n",
        "while True:\n",
        "    try:\n",
        "        floating_point = float(input(\"Enter a float: \")) # Taking float input from user\n",
        "        break\n",
        "    except ValueError:\n",
        "        print(\"Invalid input! Please enter a valid float\")\n",
        "\n",
        "# Handling boolean inpt correctly\n",
        "boolean_input = input(\"Enter a boolean(True/False): \").strip().lower()\n",
        "\n",
        "# Convert string input to boolean: If input is \"True\", store true: otherwise, store False\n",
        "boolean = boolean_input == \"true\"\n",
        "\n",
        "# proceeding output\n",
        "print(\"\\n--- Output ---\")\n",
        "\n",
        "# To Print the uppercase of user's input string\n",
        "print(\"Upper String: \", string.upper())\n",
        "\n",
        "# Checking for even or odd integer and print them\n",
        "if integer % 2 == 0:\n",
        "  print(f\"The number {integer} is Even\")\n",
        "else:\n",
        "  print(f\"The number {integer} is odd\")\n",
        "\n",
        "# Multiply the float value by 2 and print them\n",
        "print(\"Double float: \", floating_point*2)"
      ]
    },
    {
      "cell_type": "markdown",
      "source": [
        "\n",
        "\n",
        "---\n",
        "\n"
      ],
      "metadata": {
        "id": "5dNztIFcsGd-"
      }
    },
    {
      "cell_type": "markdown",
      "source": [
        "## **Question 2: Operators**\n",
        "### **Problem**: Write a Python program that:\n",
        "1. Accepts two numbers as input from the user.\n",
        "2. Performs and prints the result of all the arithmetic operations (addition,\n",
        "subtraction, multiplication, division, modulus, flow division) between these\n",
        "two numbers.\n",
        "3. Use comparison operators to check if the first number is greater than the\n",
        "second, and if they are equal.\n",
        "4. Use logical operators to combine two conditions (e.g., the first number is\n",
        "greater than the second, and the second number is less than 10).\n"
      ],
      "metadata": {
        "id": "AVWKjLtAsIgU"
      }
    },
    {
      "cell_type": "code",
      "source": [
        "# Take two inputs form user\n",
        "while True:\n",
        "    try:\n",
        "        num1 = float(input(\"Enter first number: \")) # First number\n",
        "        num2 = float(input(\"Enter second number: \")) # Second number\n",
        "        break\n",
        "    except ValueError:\n",
        "        print(\"Invaid input! Please enter valid input\") # handle non-numeric values\n",
        "\n",
        "# Performing arithmetic operations\n",
        "addition = num1 + num2 # Addition\n",
        "subtraction = num1 - num2 # Subtraction\n",
        "multiplication = num1 * num2 # Multiplication\n",
        "\n",
        "# Handling to prevent devision by zero error\n",
        "if num2 !=0:\n",
        "    division = num1 / num2 # Division\n",
        "    modulus = num1 % num2 # Modulus\n",
        "    flow_division = num1 // num2 # Flow Division\n",
        "else:\n",
        "    division = \"Undefined (Cannot divide by zero)\"\n",
        "    modulus = \"Undefined (Cannot calculate modulus with zero)\"\n",
        "    flow_division = \"Undefined (Cannot perform flow division by zero)\"\n",
        "\n",
        "# Print Arithmentc opration results\n",
        "print(\"\\n--- Output ---\")\n",
        "\n",
        "print(\"Addition: \", addition)\n",
        "print(\"Subtraction: \", subtraction)\n",
        "print(\"Multiplication: \", multiplication)\n",
        "print(\"Division: \", division)\n",
        "print(\"Modulus: \", modulus)\n",
        "print(\"Flow Division: \", flow_division)\n",
        "\n",
        "# comparison operators to check if the first number is greater than the second, and if they are equal\n",
        "greater_than = num1 > num2\n",
        "equal_to = num1 ==num2\n",
        "\n",
        "print(\"\\n--- Comparison ---\")\n",
        "print(\"First number is greater than second: \", greater_than)\n",
        "print(\"First number is equal to second: \", equal_to)\n",
        "\n",
        "# logical operators to combine two conditions (e.g., the first number is greater than the second, and the second number is less than 10)\n",
        "both_conditions = num1 > num2 and num2 < 10\n",
        "print(\"\\n--- Logical Operation ---\")\n",
        "print(\"Both conditions are True: \", both_conditions10)"
      ],
      "metadata": {
        "collapsed": true,
        "id": "HY2RJCJcsISD"
      },
      "execution_count": null,
      "outputs": []
    },
    {
      "cell_type": "markdown",
      "source": [
        "\n",
        "\n",
        "---\n",
        "\n"
      ],
      "metadata": {
        "id": "uaweESSg4RZ-"
      }
    },
    {
      "cell_type": "markdown",
      "source": [
        "## **Question 3: Loops**\n",
        "### **Problem**: Write a Python program that:\n",
        "1. Accepts a list of integers from the user.\n",
        "2. Loops through the list and prints out each number.\n",
        "3. If a number is greater than 10, skip it using the continue statement.\n",
        "4. Stop the loop if the number is 20 using the break statement.\n",
        "5. After the loop ends, print a message that the loop ended naturally.\n"
      ],
      "metadata": {
        "id": "aVmoB9G54TJq"
      }
    },
    {
      "cell_type": "code",
      "source": [
        "# Taking input from user and converting it into list of integers\n",
        "input_list = list(map(int, input(\"Enter a list of numbers separated by spaces: \").split())) # Use split function to separated by spaces\n",
        "\n",
        "# Start loop for the list\n",
        "for num in input_list:\n",
        "    if num == 20:\n",
        "        print(f\"Breaking at {num}\")\n",
        "        break # If this condition true then program stop exection at strating point\n",
        "\n",
        "    # If the number is lower then 10 then print it\n",
        "    if num < 10:\n",
        "        print(num)\n",
        "\n",
        "    # If the number is bigger then 10  then print skipping that number\n",
        "    if num > 10:\n",
        "        print(f\"Skipping {num}\")\n",
        "        continue\n",
        "\n",
        "        # Print the loop\n",
        "        print(num)\n",
        "\n",
        "print(\"Loops end naturally\")"
      ],
      "metadata": {
        "collapsed": true,
        "id": "S1XoOV614ShG"
      },
      "execution_count": null,
      "outputs": []
    }
  ]
}