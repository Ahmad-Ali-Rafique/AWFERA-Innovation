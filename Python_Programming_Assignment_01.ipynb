{
  "nbformat": 4,
  "nbformat_minor": 0,
  "metadata": {
    "colab": {
      "private_outputs": true,
      "provenance": []
    },
    "kernelspec": {
      "name": "python3",
      "display_name": "Python 3"
    },
    "language_info": {
      "name": "python"
    }
  },
  "cells": [
    {
      "cell_type": "markdown",
      "source": [
        "# **Python Programming Assignment 01**\n"
      ],
      "metadata": {
        "id": "iXFtRNn6pEKD"
      }
    },
    {
      "cell_type": "markdown",
      "source": [
        "## **Question 1: Code Along**\n",
        "### Problem Statement:\n",
        "Write a Python program that takes a string as input and prints:\n",
        "1. The string in reverse order.\n",
        "2. The number of vowels in the string."
      ],
      "metadata": {
        "id": "oWAq3WKQpg-d"
      }
    },
    {
      "cell_type": "code",
      "source": [
        "# Function for reversing a String\n",
        "def reverse_string(s):\n",
        "    return s[::-1]\n",
        "\n",
        "# Function for Counting Vowels in string\n",
        "def count_vowels(s):\n",
        "    vowels = \"aeiouAEIOU\"\n",
        "    return sum(1 for char in s if char in vowels)\n",
        "\n",
        "# Taking Input from the User for Processing\n",
        "user_input = input(\"Enter a word: \")\n",
        "\n",
        "# Print reversed input\n",
        "print(\"Reversed word:\", reverse_string(user_input))\n",
        "\n",
        "# Print Number of vowels of Input\n",
        "print(\"Number of Vowels in Word:\", count_vowels(user_input))\n"
      ],
      "metadata": {
        "id": "bMPwgEO-3HjP"
      },
      "execution_count": null,
      "outputs": []
    },
    {
      "cell_type": "markdown",
      "source": [
        "\n",
        "\n",
        "---\n",
        "\n"
      ],
      "metadata": {
        "id": "E0XCDy8tsgMN"
      }
    },
    {
      "cell_type": "markdown",
      "source": [
        "## **Question 2: Hands-on Coding Project**\n",
        "### Problem Statement:\n",
        "Create a Python program that:\n",
        "1. Takes an input number from the user.\n",
        "2. Checks whether the number is even or odd.\n",
        "3. Prints the result."
      ],
      "metadata": {
        "id": "vCQiRfJ-sRg_"
      }
    },
    {
      "cell_type": "code",
      "source": [
        "# Function for checking even or odd\n",
        "def check_even_odd(n):\n",
        "    if n % 2 == 0:\n",
        "        return \"Even\"\n",
        "    else:\n",
        "        return \"Odd\"\n",
        "\n",
        "# Take Integer Input from User\n",
        "try:\n",
        "    user_input = int(input(\"Enter a Number: \"))\n",
        "    print(f\"The number {user_input} is {check_even_odd(user_input)}.\")\n",
        "except ValueError:\n",
        "    print(\"Invalid Input! Please provide a correct integer.\")\n"
      ],
      "metadata": {
        "id": "H_PcvNwm3U9N"
      },
      "execution_count": null,
      "outputs": []
    },
    {
      "cell_type": "markdown",
      "source": [
        "\n",
        "\n",
        "---\n",
        "\n"
      ],
      "metadata": {
        "id": "RsuO0CHuyNmo"
      }
    },
    {
      "cell_type": "markdown",
      "source": [
        "## **Question 3: Virtual Environment Application**\n",
        "### Problem Statement:\n",
        "Create a Python program that:\n",
        "1. Takes a list of integers as input.\n",
        "2. Creates a new virtual environment called sortenv.\n",
        "3. Installs a package (such as numpy) in the virtual environment.\n",
        "4. Sorts the list using numpy.sort().\n",
        "5. Prints the sorted list."
      ],
      "metadata": {
        "id": "pdxfB-7ryA_c"
      }
    },
    {
      "cell_type": "code",
      "source": [
        "# Install a package (Numpy) in the virtual environment\n",
        "import numpy as np\n",
        "\n",
        "# Function to sort the list\n",
        "def sort_list(arr):\n",
        "    return np.sort(arr)\n",
        "\n",
        "# Function to simulate virtual environment setup\n",
        "def setup_virtual_env():\n",
        "    print(\"Step 1: Create a virtual environment using:\")\n",
        "    print(\" python -m venv sortenv\")\n",
        "    print(\"Step 2: Activate the virtual environment:\")\n",
        "    print(\" Windows: sortenv\\\\Scripts\\\\activate\")\n",
        "    print(\" macOS/Linux: source sortenv/bin/activate\")\n",
        "    print(\"Step 3: Install NumPy in the virtual environment:\")\n",
        "    print(\" pip install numpy\")\n",
        "    print(\"Step 4: Now, sorting the list using NumPy...\")\n",
        "\n",
        "# Taking user input as a list of Integers\n",
        "try:\n",
        "    user_input = input(\"Enter a list of numbers separated by spaces that you want to sort: \")\n",
        "    num_list = list(map(int, user_input.split()))\n",
        "\n",
        "    # Running virtual environment simulation\n",
        "    setup_virtual_env()\n",
        "\n",
        "    # Sorting and displaying the sorted list\n",
        "    print(\"Sorted list:\", sort_list(num_list))\n",
        "except ValueError:\n",
        "    print(\"Invalid input! Please enter a list of integers.\")\n"
      ],
      "metadata": {
        "id": "_6OCs8PwzgWh"
      },
      "execution_count": null,
      "outputs": []
    }
  ]
}